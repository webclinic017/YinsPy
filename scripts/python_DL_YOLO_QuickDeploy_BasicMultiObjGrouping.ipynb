{
 "cells": [
  {
   "cell_type": "markdown",
   "metadata": {},
   "source": [
    "# YOLO: A BASIC MULTI-OBJECT GROUPING\n",
    "\n",
    "This notebook calls the script and deploys YOLO algorithm by one line of code. YOLO is taken from open source *cvlib* and pretrained models are downloaded. Algorithm will input live camera feed and a video will pop out once successfully loaded.\n",
    "\n",
    "In addition, this group provided implementation of drawing lines between multiple objects. Future work can be carried out for drawing lines connecting objects that actually interact with each other."
   ]
  },
  {
   "cell_type": "code",
   "execution_count": 1,
   "metadata": {},
   "outputs": [
    {
     "name": "stdout",
     "output_type": "stream",
     "text": [
      "-----------------------------------------------------\n",
      "\n",
      "    Yin's YOLO Package (For Quick Deployment)\n",
      "    Copyright © YINS CAPITAL, 2009 – Present\n",
      "    For more information, go to www.YinsCapital.com\n",
      "    \n",
      "-----------------------------------------------------\n"
     ]
    }
   ],
   "source": [
    "# Load Package\n",
    "%run \"YinsYOLO.py\""
   ]
  },
  {
   "cell_type": "markdown",
   "metadata": {},
   "source": [
    "Once loaded the following code, a window will pop open to start live streaming while running YOLO algorithm. Press 'Q' to quit."
   ]
  },
  {
   "cell_type": "code",
   "execution_count": null,
   "metadata": {},
   "outputs": [],
   "source": [
    "YinsYOLO.Personal_AI_Surveillance_Basic_Grouping(whatObject='person', useAdvancedYOLO=False, confidence=0.1, whichCam=0, verbose=False)"
   ]
  },
  {
   "cell_type": "markdown",
   "metadata": {},
   "source": [
    "End."
   ]
  }
 ],
 "metadata": {
  "kernelspec": {
   "display_name": "Python 3",
   "language": "python",
   "name": "python3"
  },
  "language_info": {
   "codemirror_mode": {
    "name": "ipython",
    "version": 3
   },
   "file_extension": ".py",
   "mimetype": "text/x-python",
   "name": "python",
   "nbconvert_exporter": "python",
   "pygments_lexer": "ipython3",
   "version": "3.7.4"
  }
 },
 "nbformat": 4,
 "nbformat_minor": 4
}
